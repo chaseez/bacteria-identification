{
 "cells": [
  {
   "cell_type": "code",
   "execution_count": 25,
   "metadata": {},
   "outputs": [],
   "source": [
    "from pathlib import Path\n",
    "import pandas as pd\n",
    "import os\n",
    "df = pd.read_csv('data/train_labels.csv')\n",
    "df = df.query('motor_visible == 1')\n",
    "df.to_csv('data/train_visible_motor_labels.csv',index=False)"
   ]
  },
  {
   "cell_type": "code",
   "execution_count": 12,
   "metadata": {},
   "outputs": [
    {
     "name": "stdout",
     "output_type": "stream",
     "text": [
      "mkdir: positive_motor: File exists\n"
     ]
    }
   ],
   "source": [
    "!mkdir positive_motor"
   ]
  },
  {
   "cell_type": "code",
   "execution_count": 23,
   "metadata": {},
   "outputs": [],
   "source": [
    "new_headers = 'filename,file_size,file_attributes,region_count,region_id,region_shape_attributes,region_attributes\\n'\n",
    "file_names = df['external_id']\n",
    "x_center = df['x_center']\n",
    "y_center = df['y_center']\n",
    "width = df['width']\n",
    "height = df['height']\n",
    "motor_visible = df['motor_visible']\n",
    "\n",
    "# with open('vgg_annotated_train_labels.csv', 'w') as file:\n",
    "#     file.write(new_headers)\n",
    "for f_name, cx, cy, w, h, vis in zip(file_names, x_center, y_center, width, height, motor_visible):\n",
    "    if vis == 0: continue\n",
    "    print(f_name, cx, cy, w, h, vis)\n",
    "    file_size = str(os.path.getsize(f'data/train 2/{f_name}'))\n",
    "    Path(f'data/train 2/{f_name}').rename(f'positive_motor/{f_name}')\n",
    "    file_attributes = '\"{\"\"caption\"\":\"\"' + f_name.removesuffix('.png') + '\"\",\"\"public_domain\"\":\"\"no\"\",\"\"image_url\"\":\"\"http://www.robots.ox.ac.uk/~vgg/images/' + f_name + '\"\"}\"'\n",
    "    region_count = '1'\n",
    "    region_id = '0'\n",
    "    x = cx - (w/2)\n",
    "    y = cy - (h/2)\n",
    "    region_shape_attributes = '\"{\"\"name\"\":\"\"rect\"\",\"\"x\"\":' + str(x) + ',\"\"y\"\":' + str(y) + ',\"\"width\"\":' + str(w) + ',\"\"height\"\":' + str(h) +'}\"'\n",
    "    region_attributes = '\"{\"\"name\"\":\"\"flagellum\"\",\"\"type\"\":\"\"bacteria\"\"}\"'\n",
    "\n",
    "    attribtues = [f_name, file_size, file_attributes, region_count, region_id, region_shape_attributes, region_attributes]\n",
    "    # file.write(','.join(attribtues))\n",
    "    # file.write('\\n')\n",
    "\n",
    "\n"
   ]
  },
  {
   "cell_type": "code",
   "execution_count": null,
   "metadata": {},
   "outputs": [],
   "source": []
  }
 ],
 "metadata": {
  "kernelspec": {
   "display_name": "ML",
   "language": "python",
   "name": "python3"
  },
  "language_info": {
   "codemirror_mode": {
    "name": "ipython",
    "version": 3
   },
   "file_extension": ".py",
   "mimetype": "text/x-python",
   "name": "python",
   "nbconvert_exporter": "python",
   "pygments_lexer": "ipython3",
   "version": "3.11.7"
  }
 },
 "nbformat": 4,
 "nbformat_minor": 2
}
